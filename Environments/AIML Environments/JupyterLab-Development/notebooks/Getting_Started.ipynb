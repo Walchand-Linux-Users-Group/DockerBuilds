{
 "cells": [
  {
   "cell_type": "markdown",
   "id": "9ad8eae8",
   "metadata": {},
   "source": [
    "# Welcome to Jupyter Lab Docker Environment\n",
    "\n",
    "This is a sample notebook to help you get started with your new Jupyter Lab environment."
   ]
  },
  {
   "cell_type": "markdown",
   "id": "f7f48161",
   "metadata": {},
   "source": [
    "## 1. Testing Python Environment"
   ]
  },
  {
   "cell_type": "code",
   "execution_count": null,
   "id": "417706d5",
   "metadata": {},
   "outputs": [],
   "source": [
    "import sys\n",
    "print(f\"Python version: {sys.version}\")\n",
    "print(f\"Python executable: {sys.executable}\")"
   ]
  },
  {
   "cell_type": "markdown",
   "id": "c2e241b1",
   "metadata": {},
   "source": [
    "## 2. Testing Data Science Libraries"
   ]
  },
  {
   "cell_type": "code",
   "execution_count": null,
   "id": "e06ce4a6",
   "metadata": {},
   "outputs": [],
   "source": [
    "# Import essential libraries\n",
    "import numpy as np\n",
    "import pandas as pd\n",
    "import matplotlib.pyplot as plt\n",
    "import seaborn as sns\n",
    "\n",
    "print(\"NumPy version:\", np.__version__)\n",
    "print(\"Pandas version:\", pd.__version__)\n",
    "print(\"Matplotlib and Seaborn imported successfully\")"
   ]
  },
  {
   "cell_type": "markdown",
   "id": "0e8e326e",
   "metadata": {},
   "source": [
    "## 3. Simple Data Visualization Example"
   ]
  },
  {
   "cell_type": "code",
   "execution_count": null,
   "id": "6f253828",
   "metadata": {},
   "outputs": [],
   "source": [
    "np.random.seed(42)\n",
    "data = {\n",
    "    'x': np.random.randn(100),\n",
    "    'y': np.random.randn(100),\n",
    "    'category': np.random.choice(['A', 'B', 'C'], 100)\n",
    "}\n",
    "df = pd.DataFrame(data)\n",
    "\n",
    "# Create a simple plot\n",
    "plt.figure(figsize=(10, 6))\n",
    "sns.scatterplot(data=df, x='x', y='y', hue='category')\n",
    "plt.title('Sample Scatter Plot')\n",
    "plt.show()\n",
    "\n",
    "print(\"Visualization working correctly!\")"
   ]
  },
  {
   "cell_type": "markdown",
   "id": "5e866e79",
   "metadata": {},
   "source": [
    "## 4. Testing Machine Learning Libraries"
   ]
  },
  {
   "cell_type": "code",
   "execution_count": null,
   "id": "2dd1055b",
   "metadata": {},
   "outputs": [],
   "source": [
    "from sklearn.datasets import make_classification\n",
    "from sklearn.model_selection import train_test_split\n",
    "from sklearn.ensemble import RandomForestClassifier\n",
    "from sklearn.metrics import accuracy_score\n",
    "\n",
    "X, y = make_classification(n_samples=1000, n_features=4, n_classes=2, random_state=42)\n",
    "X_train, X_test, y_train, y_test = train_test_split(X, y, test_size=0.2, random_state=42)\n",
    "\n",
    "model = RandomForestClassifier(random_state=42)\n",
    "model.fit(X_train, y_train)\n",
    "\n",
    "predictions = model.predict(X_test)\n",
    "accuracy = accuracy_score(y_test, predictions)\n",
    "\n",
    "print(f\"Model accuracy: {accuracy:.3f}\")\n",
    "print(\"Scikit-learn working correctly!\")"
   ]
  },
  {
   "cell_type": "markdown",
   "id": "e60a9faf",
   "metadata": {},
   "source": [
    "## 5. Environment Information"
   ]
  },
  {
   "cell_type": "code",
   "execution_count": null,
   "id": "2dc9777d",
   "metadata": {},
   "outputs": [],
   "source": [
    "import subprocess\n",
    "import sys\n",
    "\n",
    "result = subprocess.run([sys.executable, '-m', 'pip', 'list'], \n",
    "                       capture_output=True, text=True)\n",
    "print(\"Installed packages:\")\n",
    "print(result.stdout)"
   ]
  },
  {
   "cell_type": "markdown",
   "id": "a10236fb",
   "metadata": {},
   "source": [
    "## Next Steps\n",
    "\n",
    "Your Jupyter Lab environment is ready! Here's what you can do:\n",
    "\n",
    "1. **Create new notebooks** in the `notebooks/` directory\n",
    "2. **Add data files** to the `data/` directory\n",
    "3. **Write Python scripts** in the `scripts/` directory\n",
    "4. **Install additional packages** by adding them to `requirements.txt` and rebuilding the Docker image\n",
    "\n",
    "Happy coding! 🚀"
   ]
  }
 ],
 "metadata": {
  "language_info": {
   "name": "python"
  }
 },
 "nbformat": 4,
 "nbformat_minor": 5
}
